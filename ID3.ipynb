{
  "nbformat": 4,
  "nbformat_minor": 0,
  "metadata": {
    "colab": {
      "name": "ID3.ipynb",
      "provenance": [],
      "collapsed_sections": [],
      "authorship_tag": "ABX9TyMtSFNg/pLHtUmS5Iz08Swu",
      "include_colab_link": true
    },
    "kernelspec": {
      "name": "python3",
      "display_name": "Python 3"
    }
  },
  "cells": [
    {
      "cell_type": "markdown",
      "metadata": {
        "id": "view-in-github",
        "colab_type": "text"
      },
      "source": [
        "<a href=\"https://colab.research.google.com/github/vivekmadambil/AI_Course-2020/blob/main/ID3.ipynb\" target=\"_parent\"><img src=\"https://colab.research.google.com/assets/colab-badge.svg\" alt=\"Open In Colab\"/></a>"
      ]
    },
    {
      "cell_type": "markdown",
      "metadata": {
        "id": "x1Oo-N0S30ff"
      },
      "source": [
        "**ID3 Algorithm**"
      ]
    },
    {
      "cell_type": "code",
      "metadata": {
        "id": "qF59Yfs8dbHC"
      },
      "source": [
        "# packages import\r\n",
        "import pandas as pd\r\n",
        "import numpy as np\r\n",
        "from pprint import pprint"
      ],
      "execution_count": null,
      "outputs": []
    },
    {
      "cell_type": "code",
      "metadata": {
        "id": "fz8ydnUMkNpz"
      },
      "source": [
        "#load dataset in dataframe\r\n",
        "dataset = pd.read_csv('tennis.csv',\r\n",
        "                      names=['outlook','temp','humidity','windy','play'])"
      ],
      "execution_count": null,
      "outputs": []
    },
    {
      "cell_type": "code",
      "metadata": {
        "colab": {
          "base_uri": "https://localhost:8080/"
        },
        "id": "-1BJc2KNpdMo",
        "outputId": "1b6bc7c7-b1a8-452f-f6cd-c4e405e3fa01"
      },
      "source": [
        "#remove labels from dataset\r\n",
        "dataset=dataset.drop([0])\r\n",
        "#Display dataset\r\n",
        "print(\"Dataset used in the program is given below\\n\",dataset)"
      ],
      "execution_count": null,
      "outputs": [
        {
          "output_type": "stream",
          "text": [
            "Dataset used in the program is given below\n",
            "      outlook  temp humidity   windy play\n",
            "1      sunny   hot     high    weak   no\n",
            "2      sunny   hot     high  strong   no\n",
            "3   overcast   hot     high    weak  yes\n",
            "4      rainy  mild     high    weak  yes\n",
            "5      rainy  cool   normal    weak  yes\n",
            "6      rainy  cool   normal  strong   no\n",
            "7   overcast  cool   normal  strong  yes\n",
            "8      sunny  mild     high    weak   no\n",
            "9      sunny  cool   normal    weak  yes\n",
            "10     rainy  mild   normal    weak  yes\n",
            "11     sunny  mild   normal  strong  yes\n",
            "12  overcast  mild     high  strong  yes\n",
            "13  overcast   hot   normal    weak  yes\n",
            "14     rainy  mild     high  strong   no\n"
          ],
          "name": "stdout"
        }
      ]
    },
    {
      "cell_type": "code",
      "metadata": {
        "id": "HKLr-Z9kkwG1"
      },
      "source": [
        "#information gain function\r\n",
        "def gain(data,split_attr,label_col):\r\n",
        "  #Calculate the entropy of the total dataset\r\n",
        "  t_entropy = entropy(data[label_col])\r\n",
        "  #Calculate the values and the corresponding counts for the split attribute \r\n",
        "  vals,counts= np.unique(data[split_attr],return_counts=True)\r\n",
        "  w_entropy=0\r\n",
        "  #Calculate the weighted entropy\r\n",
        "  for i in range(len(vals)):\r\n",
        "    data1 =data.where(data[split_attr]==vals[i]).dropna()[label_col]\r\n",
        "    w_entropy = w_entropy + np.sum([(counts[i]/np.sum(counts))*entropy(data1)])\r\n",
        "  #Calculate the information gain\r\n",
        "  IG = t_entropy - w_entropy\r\n",
        "  print(\"Information gain for attribute\",split_attr,\"is:\", IG)\r\n",
        "  return IG"
      ],
      "execution_count": null,
      "outputs": []
    },
    {
      "cell_type": "code",
      "metadata": {
        "id": "wgjFdxGVkq24"
      },
      "source": [
        "#entropy function\r\n",
        "def entropy(col):\r\n",
        "  #unique values and their counts\r\n",
        "  val,count = np.unique(col,return_counts = True)\r\n",
        "  entropy=0\r\n",
        "  for i in range(len(val)):\r\n",
        "    entropy = entropy + np.sum([(-count[i]/np.sum(count))*\r\n",
        "                                np.log2(count[i]/np.sum(count))])\r\n",
        "  return entropy"
      ],
      "execution_count": null,
      "outputs": []
    },
    {
      "cell_type": "code",
      "metadata": {
        "id": "hMN0RBZMky6U"
      },
      "source": [
        "#ID3 function\r\n",
        "def ID3(data,data1,features,label_field,pnode = None):\r\n",
        "  #stoping criterias    \r\n",
        "  #1. If all labels have the same value, return that value\r\n",
        "  if len(np.unique(data[label_field])) <= 1:\r\n",
        "    return np.unique(data[label_field])[0] \r\n",
        "  #2. no data to split\r\n",
        "  elif len(data)==0:\r\n",
        "    val = np.unique(data1[label_field],return_counts=True)[1]\r\n",
        "    return np.unique(data1[label_field])[np.argmax(val)] \r\n",
        "  #no feature to split again\r\n",
        "  elif len(features) ==0:\r\n",
        "      return pnode\r\n",
        "  else:\r\n",
        "      #Set the default value for the node\r\n",
        "      v=np.unique(data[label_field],return_counts=True)[1] \r\n",
        "      pnode = np.unique(data[label_field])[np.argmax(v)]\r\n",
        "      #Select the feature which best splits the dataset\r\n",
        "      info_gain= []\r\n",
        "      for feature in features:\r\n",
        "        info_gain.append(gain(data,feature,label_field)) \r\n",
        "      index = np.argmax(info_gain)\r\n",
        "      s_feature = features[index]\r\n",
        "      print(\"Best feature selected for dividing the tree in this iteration:\",\r\n",
        "            s_feature,\"\\n\")\r\n",
        "      #Create the tree structure. \r\n",
        "      tree = {s_feature:{}}   \r\n",
        "      #Remove the selected feature from the list\r\n",
        "      features.drop(s_feature)\r\n",
        "      for value in np.unique(data[s_feature]):\r\n",
        "          value = value\r\n",
        "          #Split the dataset all call id3 recursively \r\n",
        "          sub_data = data.where(data[s_feature] == value).dropna()\r\n",
        "          subtree = ID3(sub_data,dataset,features,label_field,pnode)\r\n",
        "          tree[s_feature][value] = subtree\r\n",
        "      return(tree)       "
      ],
      "execution_count": null,
      "outputs": []
    },
    {
      "cell_type": "code",
      "metadata": {
        "colab": {
          "base_uri": "https://localhost:8080/"
        },
        "id": "8eOU48mYekxo",
        "outputId": "e034f336-1295-44ba-ddf2-c9a9fcfc4b06"
      },
      "source": [
        "#List of features in dataset except output(label) column\r\n",
        "print(dataset.columns[:-1])"
      ],
      "execution_count": null,
      "outputs": [
        {
          "output_type": "stream",
          "text": [
            "Index(['outlook', 'temp', 'humidity', 'windy'], dtype='object')\n"
          ],
          "name": "stdout"
        }
      ]
    },
    {
      "cell_type": "code",
      "metadata": {
        "colab": {
          "base_uri": "https://localhost:8080/"
        },
        "id": "zBohDhmJk557",
        "outputId": "e5a38604-2bbc-40ef-ad65-994d60926f46"
      },
      "source": [
        "# pass dataset along with feature set and name of output coloumn(label of data)\r\n",
        "tree = ID3(dataset,dataset,dataset.columns[:-1],'play')\r\n",
        "#print tree using pprint function\r\n",
        "pprint(tree)"
      ],
      "execution_count": null,
      "outputs": [
        {
          "output_type": "stream",
          "text": [
            "Information gain for attribute outlook is: 0.2467498197744391\n",
            "Information gain for attribute temp is: 0.029222565658954647\n",
            "Information gain for attribute humidity is: 0.15183550136234136\n",
            "Information gain for attribute windy is: 0.04812703040826927\n",
            "Best feature selected for dividing the tree in this iteration: outlook \n",
            "\n",
            "Information gain for attribute outlook is: 0.0\n",
            "Information gain for attribute temp is: 0.01997309402197489\n",
            "Information gain for attribute humidity is: 0.01997309402197489\n",
            "Information gain for attribute windy is: 0.9709505944546686\n",
            "Best feature selected for dividing the tree in this iteration: windy \n",
            "\n",
            "Information gain for attribute outlook is: 0.0\n",
            "Information gain for attribute temp is: 0.5709505944546686\n",
            "Information gain for attribute humidity is: 0.9709505944546686\n",
            "Information gain for attribute windy is: 0.01997309402197489\n",
            "Best feature selected for dividing the tree in this iteration: humidity \n",
            "\n",
            "{'outlook': {'overcast': 'yes',\n",
            "             'rainy': {'windy': {'strong': 'no', 'weak': 'yes'}},\n",
            "             'sunny': {'humidity': {'high': 'no', 'normal': 'yes'}}}}\n"
          ],
          "name": "stdout"
        }
      ]
    }
  ]
}